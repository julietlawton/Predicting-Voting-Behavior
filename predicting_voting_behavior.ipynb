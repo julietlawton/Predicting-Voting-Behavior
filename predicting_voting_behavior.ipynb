{
 "cells": [
  {
   "attachments": {},
   "cell_type": "markdown",
   "metadata": {},
   "source": [
    "## Predicting Voting Behavior ##"
   ]
  },
  {
   "attachments": {},
   "cell_type": "markdown",
   "metadata": {},
   "source": [
    "< TODO: Short Project Description Here >"
   ]
  },
  {
   "attachments": {},
   "cell_type": "markdown",
   "metadata": {},
   "source": [
    "### Set up ###"
   ]
  },
  {
   "cell_type": "code",
   "execution_count": null,
   "metadata": {},
   "outputs": [],
   "source": [
    "# Install missingno and h2o libraries\n",
    "!python -m pip install missingno\n",
    "!python -m pip install h2o\n",
    "\n",
    "# Verify that java is installed (needed for h2o)\n",
    "!java -version"
   ]
  },
  {
   "cell_type": "code",
   "execution_count": null,
   "metadata": {},
   "outputs": [],
   "source": [
    "# Import libraries\n",
    "import numpy as np\n",
    "import pandas as pd\n",
    "import random\n",
    "import matplotlib.pyplot as plt\n",
    "import missingno as msno\n",
    "from scipy.stats import chi2_contingency\n",
    "import h2o\n",
    "\n",
    "\n",
    "# Settings\n",
    "pd.set_option('display.max_columns', None)"
   ]
  },
  {
   "cell_type": "code",
   "execution_count": null,
   "metadata": {},
   "outputs": [],
   "source": [
    "# Helper functions\n",
    "def choose_random_color():\n",
    "    colors = ['b', 'c', 'g', 'm', 'r', 'y', 'pink', 'turquoise', 'navy', 'lime', 'darkcyan', 'firebrick', 'slateblue', 'blueviolet']\n",
    "    return random.choice(colors)\n",
    "\n",
    "def chisquare_test(table):\n",
    "    stat, p_value, dof, expected = chi2_contingency(table, correction=False)\n",
    "    # Set significance level for interpreting p-value\n",
    "    alpha = 0.05\n",
    "    if p_value <= alpha:\n",
    "        print('There is a relationship between the variables.')"
   ]
  },
  {
   "attachments": {},
   "cell_type": "markdown",
   "metadata": {},
   "source": [
    "### Data cleaning and preprocessing ###"
   ]
  },
  {
   "cell_type": "code",
   "execution_count": null,
   "metadata": {},
   "outputs": [],
   "source": [
    "# Read in nonvoters dataset\n",
    "non_voters = pd.read_csv('nonvoters_data.csv')\n",
    "sample_size = len(non_voters)\n",
    "\n",
    "# Print data types and non-null count for each feature  \n",
    "non_voters.info(verbose=True, show_counts=True)"
   ]
  },
  {
   "cell_type": "code",
   "execution_count": null,
   "metadata": {},
   "outputs": [],
   "source": [
    "# Change categorical features to be of type category (this is all columns except RespId, weight, and ppage)\n",
    "non_categorical = ['RespId', 'weight', 'ppage']\n",
    "for column in non_voters.columns:\n",
    "    if column not in non_categorical:\n",
    "        non_voters[column] = non_voters[column].astype('category')\n",
    "\n",
    "# Introduce ordering to demographic features with inherent ordering\n",
    "non_voters.income_cat = pd.Categorical(non_voters.income_cat, ordered=True, categories=['Less than $40k', '$40-75k', '$75-125k', '$125k or more'])\n",
    "non_voters.educ = pd.Categorical(non_voters.educ, ordered=True, categories=['High school or less', 'Some college', 'College'])\n",
    "\n",
    "# Examine age distribution of participants\n",
    "print(non_voters.ppage.describe())\n",
    "\n",
    "plt.hist(non_voters.ppage)\n",
    "plt.title('Age Distribution of Participants in Sample')\n",
    "plt.xlabel('age')\n",
    "plt.ylabel('count')\n",
    "plt.show()\n",
    "plt.clf()\n",
    "\n",
    "# Convert age feature to be catgorical instead of quantitative to improve interpretability\n",
    "non_voters.ppage = pd.cut(non_voters.ppage, bins=[0, 36, 66, 99], labels=['35 or younger', '36-65', '66 or older'])\n",
    "non_voters.ppage = pd.Categorical(non_voters.ppage, ordered=True, categories=['35 or younger', '36-65', '66 or older'])\n",
    "\n",
    "# Examine new distribtuion\n",
    "non_voters.ppage.value_counts().sort_index().plot(kind='bar', color=choose_random_color())\n",
    "plt.title('Age Distribution of Participants in Sample')\n",
    "plt.ylabel('count')\n",
    "plt.show()"
   ]
  },
  {
   "cell_type": "code",
   "execution_count": null,
   "metadata": {},
   "outputs": [],
   "source": [
    "# Examine demographics of participants in the dataset\n",
    "voter_demographics = non_voters[['ppage', 'educ', 'race', 'gender', 'income_cat']].copy()\n",
    "print(voter_demographics.describe(include='all'))\n",
    "\n",
    "# Visualize distribution of participant demographics\n",
    "fig, ax = plt.subplots(3, 2, figsize=(10, 10))\n",
    "voter_demographics.ppage.value_counts().sort_index().plot(ax=ax[0, 0], kind='bar', color=choose_random_color())\n",
    "ax[0, 0].set_title('Participant Age')\n",
    "ax[0, 0].set_ylabel('count')\n",
    "\n",
    "voter_demographics.educ.value_counts().sort_index().plot(ax=ax[0, 1], kind='bar', color=choose_random_color())\n",
    "ax[0, 1].set_title('Participant Education')\n",
    "\n",
    "voter_demographics.race.value_counts().sort_index().plot(ax=ax[1, 0], kind='bar', color=choose_random_color())\n",
    "ax[1, 0].set_title('Participant Race')\n",
    "ax[1, 0].set_ylabel('count')\n",
    "\n",
    "voter_demographics.gender.value_counts().sort_index().plot(ax=ax[1, 1], kind='bar', color=choose_random_color())\n",
    "ax[1, 1].set_title('Participant Gender')\n",
    "\n",
    "voter_demographics.income_cat.value_counts().sort_index().plot(ax=ax[2, 0], kind='bar', color=choose_random_color())\n",
    "ax[2, 0].set_title('Participant Income Category')\n",
    "ax[2, 0].set_ylabel('count')\n",
    "\n",
    "ax[2, 1].axis('off')\n",
    "\n",
    "plt.tight_layout()\n",
    "plt.show()\n",
    "    "
   ]
  },
  {
   "cell_type": "code",
   "execution_count": null,
   "metadata": {},
   "outputs": [],
   "source": [
    "# Remove column for question 1 since every participant answered yes (prerequiste for being included in the sample)\n",
    "non_voters.drop(f'Q1', axis=1, inplace=True)\n",
    "\n",
    "# Remove columns for question 19 because it has a different format than the other questions\n",
    "for i in range(1, 11):\n",
    "    non_voters.drop(f'Q19_{i}', axis=1, inplace=True)\n",
    "\n",
    "# Check for NA values\n",
    "na_feature_count = 0\n",
    "na_columns = []\n",
    "for column in non_voters.columns:\n",
    "    na_values = non_voters[column].isna().sum()\n",
    "    if(na_values > 0):\n",
    "        na_columns.append(column)\n",
    "        na_feature_count += 1\n",
    "\n",
    "print(f'{na_feature_count} features have NA values.')\n",
    "print(na_columns)\n",
    "\n",
    "# Drop all columns with NA values since they represent questions asked to a subset of participants\n",
    "non_voters.drop(na_columns, axis=1, inplace=True)"
   ]
  },
  {
   "cell_type": "code",
   "execution_count": null,
   "metadata": {},
   "outputs": [],
   "source": [
    "# Replace remaining -1 missing values with nan for easier analysis\n",
    "non_voters = non_voters.replace(-1, np.nan)\n",
    "\n",
    "# Use a missingno matrix to visually inspect if missing values are MCAR (missing completely at random)\n",
    "# msno.matrix(non_voters)\n",
    "\n",
    "# Since the missingness looks like it might not be MCAR, use chi-square tests to check if there is a signigicant relationship \n",
    "# between participant demographics and missing values, which could indicate that there is additional information in the missing values\n",
    "# Chose one variable pair to test\n",
    "contingency_table = pd.crosstab(non_voters['educ'], non_voters['Q2_1'].isna(), normalize='index')\n",
    "contingency_table = contingency_table.rename(columns={False: \"Answered\", True: \"Did Not Answer\"})\n",
    "print(contingency_table)\n",
    "chi2, p, dof, expected = chi2_contingency(contingency_table)\n",
    "print(f'chi statistic: {chi2}')\n",
    "print(f'p-value: {p}')\n",
    "\n",
    "# Test the other variables\n",
    "questions = non_voters.filter(like='Q')\n",
    "significant_count = 0\n",
    "for q in questions.columns:\n",
    "    for d in voter_demographics.columns:\n",
    "        # Create a contingency table\n",
    "        contingency_table = pd.crosstab(non_voters[d], non_voters[q].isna(), normalize='index')\n",
    "\n",
    "        # Perform chi-square test\n",
    "        chi2, p, dof, expected = chi2_contingency(contingency_table)\n",
    "        # Set significance level for interpreting p-value\n",
    "        alpha = 0.05\n",
    "        if p <= alpha:\n",
    "            print(f'There is a relationship between the {d} and {q} variables.')\n",
    "            significant_count += 1\n",
    "\n",
    "if not significant_count:\n",
    "    print('There was no significant relationship found between demographic variables and missing values.')\n",
    "\n",
    "# Since no significant relationship was found, assume MCAR and perform mode imputation on missing values\n",
    "for column in non_voters.columns:\n",
    "    if non_voters[column].isna().sum() > 0:\n",
    "        non_voters[column].fillna(non_voters[column].mode()[0], inplace=True)\n",
    "\n"
   ]
  },
  {
   "attachments": {},
   "cell_type": "markdown",
   "metadata": {},
   "source": [
    "### Training the model ###"
   ]
  },
  {
   "cell_type": "code",
   "execution_count": null,
   "metadata": {},
   "outputs": [],
   "source": [
    "# Initialize the h2o cluster\n",
    "h2o.init()\n",
    "\n",
    "# Convert the pandas DataFrame to an h2o Frame\n",
    "non_voters_h2o = h2o.H2OFrame(non_voters)\n",
    "\n",
    "# Input parameters that are going to train\n",
    "training_columns = [c for c in non_voters.columns if c not in ['RespId', 'weight', 'voter_category']]\n",
    "print(training_columns)\n",
    "# Output parameter train against input parameters\n",
    "response_column = 'voter_category'\n",
    "\n",
    "# Split cleaned dataset into training and test sets (80% for training, 20% for testing)\n",
    "train, test = non_voters_h2o.split_frame(ratios=[0.8], seed=42)\n",
    "\n",
    "# Check the dimensions of the splits\n",
    "print(\"Training set shape:\", train.shape)\n",
    "print(\"Test set shape:\", test.shape)\n",
    "\n",
    "# Define model\n",
    "model = h2o.estimators.H2ORandomForestEstimator(ntrees=50, max_depth=20, nfolds=10)\n",
    "\n",
    "# Train model\n",
    "model.train(x=training_columns, y=response_column, training_frame=train, weights_column='weight')\n",
    "\n",
    "# Model performance\n",
    "performance = model.model_performance(test_data=test)\n",
    "\n",
    "print(performance)"
   ]
  }
 ],
 "metadata": {
  "kernelspec": {
   "display_name": "Python 3 (ipykernel)",
   "language": "python",
   "name": "python3"
  },
  "language_info": {
   "codemirror_mode": {
    "name": "ipython",
    "version": 3
   },
   "file_extension": ".py",
   "mimetype": "text/x-python",
   "name": "python",
   "nbconvert_exporter": "python",
   "pygments_lexer": "ipython3",
   "version": "3.9.13"
  }
 },
 "nbformat": 4,
 "nbformat_minor": 2
}
